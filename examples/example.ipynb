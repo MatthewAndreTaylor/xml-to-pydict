{
 "cells": [
  {
   "cell_type": "code",
   "execution_count": 2,
   "metadata": {},
   "outputs": [],
   "source": [
    "import xmlpydict"
   ]
  },
  {
   "cell_type": "code",
   "execution_count": 3,
   "metadata": {},
   "outputs": [
    {
     "data": {
      "text/plain": [
       "{'package': {'xmlpydict': {'@language': 'python'}}}"
      ]
     },
     "execution_count": 3,
     "metadata": {},
     "output_type": "execute_result"
    }
   ],
   "source": [
    "xmlpydict.parse(\"<package><xmlpydict language = 'python'/></package>\")"
   ]
  },
  {
   "cell_type": "code",
   "execution_count": 4,
   "metadata": {},
   "outputs": [
    {
     "data": {
      "text/plain": [
       "{'person': {'@name': 'Matthew', '#text': 'Hello!'}}"
      ]
     },
     "execution_count": 4,
     "metadata": {},
     "output_type": "execute_result"
    }
   ],
   "source": [
    "xmlpydict.parse(\"<person name='Matthew'>Hello!</person>\")"
   ]
  },
  {
   "cell_type": "code",
   "execution_count": 5,
   "metadata": {},
   "outputs": [
    {
     "name": "stdout",
     "output_type": "stream",
     "text": [
      "Help on module xmlpydict:\n",
      "\n",
      "NAME\n",
      "    xmlpydict\n",
      "\n",
      "FUNCTIONS\n",
      "    parse(...)\n",
      "        Parse XML content into a dictionary.\n",
      "\n",
      "FILE\n",
      "    c:\\code\\xml-to-pydict\\src\\xmlpydict.cp39-win_amd64.pyd\n",
      "\n",
      "\n"
     ]
    }
   ],
   "source": [
    "help(xmlpydict)"
   ]
  },
  {
   "cell_type": "code",
   "execution_count": 6,
   "metadata": {},
   "outputs": [],
   "source": [
    "test_string = \"\"\"\n",
    "<svg version=\"1.1\"\n",
    "     width=\"300\" height=\"200\"\n",
    "     xmlns=\"http://www.w3.org/2000/svg\">\n",
    "\n",
    "  <rect width=\"100%\" height=\"100%\" fill=\"red\" />\n",
    "\n",
    "  <circle cx=\"150\" cy=\"100\" r=\"80\" fill=\"green\" />\n",
    "\n",
    "  <text x=\"150\" y=\"125\" font-size=\"60\" text-anchor=\"middle\" fill=\"white\">SVG</text>\n",
    "\n",
    "</svg>\n",
    "\"\"\""
   ]
  },
  {
   "cell_type": "code",
   "execution_count": 7,
   "metadata": {},
   "outputs": [
    {
     "data": {
      "text/plain": [
       "{'svg': {'@version': '1.1',\n",
       "  '@width': '300',\n",
       "  '@height': '200',\n",
       "  '@xmlns': 'http://www.w3.org/2000/svg',\n",
       "  'rect': {'@width': '100%', '@height': '100%', '@fill': 'red'},\n",
       "  'circle': {'@cx': '150', '@cy': '100', '@r': '80', '@fill': 'green'},\n",
       "  'text': {'@x': '150',\n",
       "   '@y': '125',\n",
       "   '@font-size': '60',\n",
       "   '@text-anchor': 'middle',\n",
       "   '@fill': 'white',\n",
       "   '#text': 'SVG'}}}"
      ]
     },
     "execution_count": 7,
     "metadata": {},
     "output_type": "execute_result"
    }
   ],
   "source": [
    "xmlpydict.parse(test_string)"
   ]
  }
 ],
 "metadata": {
  "kernelspec": {
   "display_name": ".venv",
   "language": "python",
   "name": "python3"
  },
  "language_info": {
   "codemirror_mode": {
    "name": "ipython",
    "version": 3
   },
   "file_extension": ".py",
   "mimetype": "text/x-python",
   "name": "python",
   "nbconvert_exporter": "python",
   "pygments_lexer": "ipython3",
   "version": "3.9.6"
  },
  "orig_nbformat": 4
 },
 "nbformat": 4,
 "nbformat_minor": 2
}
